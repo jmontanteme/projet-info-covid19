{
 "cells": [
  {
   "cell_type": "code",
   "execution_count": null,
   "metadata": {},
   "outputs": [],
   "source": [
    "import json\n",
    "import glob"
   ]
  },
  {
   "cell_type": "code",
   "execution_count": null,
   "metadata": {},
   "outputs": [],
   "source": [
    "root_path='/home/augustin/Documents/mines/1a/2s/info/corona/CORD-19-research-challenge'"
   ]
  },
  {
   "cell_type": "markdown",
   "metadata": {},
   "source": [
    "Recupération de tous les fichiers json dans le répertoire."
   ]
  },
  {
   "cell_type": "code",
   "execution_count": null,
   "metadata": {},
   "outputs": [],
   "source": [
    "all_json=glob.glob(f'{root_path}//**/*.json', recursive=True)\n",
    "n=len(all_json)"
   ]
  },
  {
   "cell_type": "markdown",
   "metadata": {},
   "source": [
    "Fonction qui lit le json et le revoie sous forme de dico."
   ]
  },
  {
   "cell_type": "code",
   "execution_count": null,
   "metadata": {},
   "outputs": [],
   "source": [
    "def open_article(i):\n",
    "    article_root=all_json[i]\n",
    "    file=open(article_root,'r')\n",
    "    article=json.load(file)\n",
    "    file.close()\n",
    "    return article"
   ]
  },
  {
   "cell_type": "markdown",
   "metadata": {},
   "source": [
    "On crée une fonction qui renvoie True si un des mots de la liste est dans le texte et False sinon"
   ]
  },
  {
   "cell_type": "code",
   "execution_count": null,
   "metadata": {},
   "outputs": [],
   "source": [
    "def find(Ls,S):#Ls est une liste de str et S un str\n",
    "    \n",
    "    for s in Ls:\n",
    "        if s in S:\n",
    "            return True\n",
    "        \n",
    "    return False\n",
    "           "
   ]
  },
  {
   "cell_type": "markdown",
   "metadata": {},
   "source": [
    "On fait une fonction qui permet de rassembler les textes d'un article"
   ]
  },
  {
   "cell_type": "code",
   "execution_count": null,
   "metadata": {},
   "outputs": [],
   "source": [
    "def make_text(article):\n",
    "    text_list = []\n",
    "    for entry in article['body_text']:\n",
    "        text_list.append((entry['text']).lower())\n",
    "    \n",
    "    text_full=''.join(text_list)\n",
    "    return text_full\n",
    "#print(text_full)"
   ]
  },
  {
   "cell_type": "markdown",
   "metadata": {},
   "source": [
    "La fonction fait_tout renvoie directement les statistiques"
   ]
  },
  {
   "cell_type": "code",
   "execution_count": null,
   "metadata": {},
   "outputs": [],
   "source": [
    "def fait_tout(keys1, keys2=[\"covid-19\",\"corona\"]):\n",
    "    L_fac=[] #liste avec le facteur \n",
    "    L_co_et_fac=[] #liste avec corona et facteur (et=intersection ie n'y sont mis que les articles qui mentionnent la facteur et le coronavirus)\n",
    "    for i in range(n):\n",
    "        article=open_article(i)\n",
    "        full_text=make_text(article)\n",
    "        if find(keys1,full_text):            \n",
    "            L_fac.append([article[\"paper_id\"]])\n",
    "            if find(keys2,full_text):\n",
    "                L_co_et_fac.append([article[\"paper_id\"]])\n",
    "                \n",
    "    long=len(L_fac)\n",
    "    short=len(L_co_et_fac)\n",
    "    \n",
    "    return(long/n,short/n)   "
   ]
  },
  {
   "cell_type": "markdown",
   "metadata": {},
   "source": [
    "# Tabac "
   ]
  },
  {
   "cell_type": "code",
   "execution_count": null,
   "metadata": {},
   "outputs": [],
   "source": [
    "\n",
    "keys1=[\"smoke\",\"smoking\",\"tobacco\"]\n",
    "\n",
    "fait_tout(keys1)"
   ]
  },
  {
   "cell_type": "markdown",
   "metadata": {},
   "source": [
    "# Groupe Sanguin "
   ]
  },
  {
   "cell_type": "code",
   "execution_count": null,
   "metadata": {},
   "outputs": [],
   "source": [
    "\n",
    "keys1=[\"blood group\",\"blood type\"]\n",
    "\n",
    "fait_tout(keys1)"
   ]
  },
  {
   "cell_type": "markdown",
   "metadata": {},
   "source": [
    "# Ethnie "
   ]
  },
  {
   "cell_type": "code",
   "execution_count": null,
   "metadata": {},
   "outputs": [],
   "source": [
    "\n",
    "keys1=[\"ethnic\",\"ethnical group\"]\n",
    "\n",
    "fait_tout(keys1)"
   ]
  },
  {
   "cell_type": "markdown",
   "metadata": {},
   "source": [
    "Fonction qui ouvre le k-ième article de la liste L."
   ]
  },
  {
   "cell_type": "code",
   "execution_count": null,
   "metadata": {},
   "outputs": [],
   "source": [
    "def open_article_find(k):\n",
    "    id=L[k][0]\n",
    "    liste=glob.glob(f'{root_path}//**/*{id}.json', recursive=True)\n",
    "    \n",
    "    file=open(liste[0],'r')\n",
    "    article=json.load(file)\n",
    "    file.close()\n",
    "    return article"
   ]
  },
  {
   "cell_type": "code",
   "execution_count": null,
   "metadata": {},
   "outputs": [],
   "source": []
  }
 ],
 "metadata": {
  "kernelspec": {
   "display_name": "Python 3",
   "language": "python",
   "name": "python3"
  },
  "language_info": {
   "codemirror_mode": {
    "name": "ipython",
    "version": 3
   },
   "file_extension": ".py",
   "mimetype": "text/x-python",
   "name": "python",
   "nbconvert_exporter": "python",
   "pygments_lexer": "ipython3",
   "version": "3.6.9"
  }
 },
 "nbformat": 4,
 "nbformat_minor": 2
}
