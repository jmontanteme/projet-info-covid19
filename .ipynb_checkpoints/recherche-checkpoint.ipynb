{
 "cells": [
  {
   "cell_type": "code",
   "execution_count": 3,
   "metadata": {},
   "outputs": [],
   "source": [
    "import json\n",
    "import glob"
   ]
  },
  {
   "cell_type": "code",
   "execution_count": 4,
   "metadata": {},
   "outputs": [],
   "source": [
    "root_path='/home/arnaud/Documents/Mines1a/Informatique/Projet_informatique/data/CORD-19-research-challenge'\n",
    "\n"
   ]
  },
  {
   "cell_type": "markdown",
   "metadata": {},
   "source": [
    "Recupération de tous les fichiers json dans le répertoire."
   ]
  },
  {
   "cell_type": "code",
   "execution_count": 7,
   "metadata": {},
   "outputs": [],
   "source": [
    "all_json=glob.glob(f'{root_path}//**/*.json', recursive=True)\n",
    "n=len(all_json)"
   ]
  },
  {
   "cell_type": "markdown",
   "metadata": {},
   "source": [
    "Fonction qui lit le json et le revoie sous forme de dico."
   ]
  },
  {
   "cell_type": "code",
   "execution_count": 37,
   "metadata": {},
   "outputs": [],
   "source": [
    "def open_article(i):\n",
    "    article_root=all_json[i]\n",
    "    file=open(article_root,'r')\n",
    "    article=json.load(file)\n",
    "    file.close()\n",
    "    return article"
   ]
  },
  {
   "cell_type": "markdown",
   "metadata": {},
   "source": [
    "On crée une fonction qui renvoie True si un des mots de la liste est dans le texte et False sinon"
   ]
  },
  {
   "cell_type": "code",
   "execution_count": 15,
   "metadata": {},
   "outputs": [],
   "source": [
    "def find(Ls,S):#Ls est une liste de str et S un str\n",
    "    \n",
    "    for s in Ls:\n",
    "        if s in S:\n",
    "            return True\n",
    "        \n",
    "    return False\n",
    "           "
   ]
  },
  {
   "cell_type": "markdown",
   "metadata": {},
   "source": [
    "On fait une fonction qui permet de rassembler les textes d'un article"
   ]
  },
  {
   "cell_type": "code",
   "execution_count": 24,
   "metadata": {},
   "outputs": [],
   "source": [
    "def make_text(article):\n",
    "    text_list = []\n",
    "    for entry in article['body_text']:\n",
    "        text_list.append(entry['text'])\n",
    "    \n",
    "    text_full=''.join(text_list)\n",
    "    return text_full\n",
    "#print(text_full)"
   ]
  },
  {
   "cell_type": "code",
   "execution_count": 44,
   "metadata": {},
   "outputs": [],
   "source": [
    "keys1=[\"COVID-19\"]\n",
    "keys2=[\"smoke\",\"smoking\",\"tobacco\"]"
   ]
  },
  {
   "cell_type": "code",
   "execution_count": 45,
   "metadata": {},
   "outputs": [
    {
     "data": {
      "text/plain": [
       "48"
      ]
     },
     "execution_count": 45,
     "metadata": {},
     "output_type": "execute_result"
    }
   ],
   "source": [
    "L=[]\n",
    "for i in range(n):\n",
    "    article=open_article(i)\n",
    "    full_text=make_text(article)\n",
    "    if find(keys1,full_text):\n",
    "        if find(keys2,full_text):\n",
    "            \n",
    "            L.append([article[\"paper_id\"]])\n",
    "        \n",
    "len(L)\n",
    "        "
   ]
  },
  {
   "cell_type": "code",
   "execution_count": 27,
   "metadata": {},
   "outputs": [
    {
     "data": {
      "text/plain": [
       "962"
      ]
     },
     "execution_count": 27,
     "metadata": {},
     "output_type": "execute_result"
    }
   ],
   "source": [
    "len(L)"
   ]
  },
  {
   "cell_type": "markdown",
   "metadata": {},
   "source": [
    "Fonction qui ouvre le k-ième article de la liste L."
   ]
  },
  {
   "cell_type": "code",
   "execution_count": 36,
   "metadata": {},
   "outputs": [],
   "source": [
    "def open_article_find(k):\n",
    "    id=L[k][0]\n",
    "    liste=glob.glob(f'{root_path}//**/*{id}.json', recursive=True)\n",
    "    \n",
    "    file=open(liste[0],'r')\n",
    "    article=json.load(file)\n",
    "    file.close()\n",
    "    return article"
   ]
  }
 ],
 "metadata": {
  "kernelspec": {
   "display_name": "Python 3",
   "language": "python",
   "name": "python3"
  },
  "language_info": {
   "codemirror_mode": {
    "name": "ipython",
    "version": 3
   },
   "file_extension": ".py",
   "mimetype": "text/x-python",
   "name": "python",
   "nbconvert_exporter": "python",
   "pygments_lexer": "ipython3",
   "version": "3.7.3"
  }
 },
 "nbformat": 4,
 "nbformat_minor": 2
}
