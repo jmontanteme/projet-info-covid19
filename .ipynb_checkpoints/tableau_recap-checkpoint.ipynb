{
 "cells": [
  {
   "cell_type": "markdown",
   "metadata": {},
   "source": [
    "# Construction d'un tableau récapitulatif"
   ]
  },
  {
   "cell_type": "markdown",
   "metadata": {},
   "source": [
    "Le but de ce notebook est de construire un pandas de taille (sous forme de matrice (nombre d'articles, nombres de champs lexicaux * 6) qui pour tous les articles récapitule ses \"performances\" dans différentes catégories, et ce pour chaque champ lexical déterminé à l'avance. \n",
    "\n",
    "Commençons par définir ces champs lexicaux, qui correspondent à des facteurs de risques. Ceux-ci sont suggérés par le site Kaggle (d'où est extraite la base de données). \n",
    "Ces facteurs sont : \n",
    "- Hypertension\n",
    "- Diabetes\n",
    "- Male gender\n",
    "- Heart Disease\n",
    "- COPD and respiratory system diseases\n",
    "- Smoking Status\n",
    "- Age\n",
    "- Cerebrovascular disease\n",
    "- Cardio- and cerebrovascular disease\n",
    "- Cancer\n",
    "- Chronic kidney diseases\n",
    "- Drinking\n",
    "- Overweight or obese\n",
    "- Chronic liver disease\n",
    "\n",
    "Il faut maintenant créer un \"champ lexical\" relatif à chacun de ces thèmes. Il est important d'avoir suffisament de synonymes pour ne pas manquer d'oublier des termes dans les articles. Ces derniers étant prétraités en amont, inutiles de faire attention aux majuscules et aux tirets. "
   ]
  },
  {
   "cell_type": "code",
   "execution_count": 3,
   "metadata": {},
   "outputs": [],
   "source": [
    "hypertension = ['hypertension', 'high blood pressure', 'hypertensive', 'high pressure', 'raised blood pressure', 'htn', 'hbp', 'ht', ]\n",
    "diabetes = ['diabetes', 'high blood sugar', 'insulin resistance', 'diabetic', 'diabetics', 'dm']\n",
    "male_gender = ['male gender', 'male', 'gender', 'sex', 'masculine', 'female']\n",
    "heart_disease = ['cardiopathy', 'heart disease', 'heart', 'chd', 'arrhythmia', 'tachycardia', 'bradycardia', 'fibrillation', 'cardiomyopathy', 'infarction']\n",
    "COPD_respiratory_system = ['copd', 'emphysema', 'bronchitis', 'asthma', 'bronchiectasis', 'respiratory', 'trachea', 'lung', 'lungs', 'pulmonary']\n",
    "smoking_status = ['smoking', 'smoke', 'smoker', 'tobacco']\n",
    "age = ['age', 'old', 'young', 'senior', 'child', 'children']\n",
    "cerebrovascular_disease = ['cerebrovascular', 'embolism', 'ischemic', 'stroke', 'aneurysm', 'tia', 'subarachnoid']\n",
    "cancer = ['cancer', 'leukemia', 'cancerology']\n",
    "kidney_disease = ['kidney', 'edema', 'anemia', 'gfr', 'dialysis']\n",
    "drinking = ['drinking', 'alcohol', 'alcoholic']\n",
    "overweight = ['overweight', 'obesity', 'obese', 'bmi']\n",
    "liver_disease = ['liver', 'fascioliasis', 'cirrhosis', 'hepatitis', 'psc']"
   ]
  },
  {
   "cell_type": "markdown",
   "metadata": {},
   "source": [
    "## 0. Prétraitement des données"
   ]
  },
  {
   "cell_type": "markdown",
   "metadata": {},
   "source": [
    "Afin de travailler sur des textes le plus efficacement possible, on va procéder à un prétraitement qui consiste :\n",
    "- à récupérer les données nécessaires dans le dataset\n",
    "- à en extraire texte, titre, abstract, "
   ]
  },
  {
   "cell_type": "markdown",
   "metadata": {},
   "source": [
    "## 1. La \"diffusivité\" d'un thème dans un article"
   ]
  },
  {
   "cell_type": "markdown",
   "metadata": {},
   "source": [
    "Le but de cette partie est de travailler sur un corpus restreint de textes comportant déjà un mot-clé (ou un groupe de mots clés) correspondant à un facteur de risque et éventuellement prétraités. On parcourt chaque texte (titre et abstract inclus) et pour chaque texte, on sauvegarde les positions des mots choisis. On calcule ensuite la moyenne et l'écart-type de la position du mot.\n",
    "\n"
   ]
  },
  {
   "cell_type": "code",
   "execution_count": null,
   "metadata": {},
   "outputs": [],
   "source": [
    "import numpy as np\n",
    "import math\n",
    "texts\n",
    "# L est la liste de textes = liste de strings\n",
    "motcle = 'smoke'\n",
    "for text in texts:\n",
    "    words = text.split()\n",
    "    occurences = [i for i in range(len(words)) if words[i] == motcle]\n",
    "    mean_pos = np.mean(occurences)\n",
    "    ecart_pos = math.sqrt(np.var(occurences))\n",
    "    score = ecart_pos / len(words) "
   ]
  },
  {
   "cell_type": "markdown",
   "metadata": {},
   "source": [
    "On considère que lorsque l'écart type est plus grand que la moitié du nombre de mots du texte, cela veut dire que le mot-clé est cité dans plus de la moitié de l'article et donc que l'article parle principalement du mot-clé.\n"
   ]
  }
 ],
 "metadata": {
  "kernelspec": {
   "display_name": "Python 3",
   "language": "python",
   "name": "python3"
  },
  "language_info": {
   "codemirror_mode": {
    "name": "ipython",
    "version": 3
   },
   "file_extension": ".py",
   "mimetype": "text/x-python",
   "name": "python",
   "nbconvert_exporter": "python",
   "pygments_lexer": "ipython3",
   "version": "3.7.3"
  }
 },
 "nbformat": 4,
 "nbformat_minor": 2
}
