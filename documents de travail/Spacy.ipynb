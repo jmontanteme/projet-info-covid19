{
 "cells": [
  {
   "cell_type": "markdown",
   "metadata": {},
   "source": [
    "# Essai avec spacy\n"
   ]
  },
  {
   "cell_type": "code",
   "execution_count": 1,
   "metadata": {},
   "outputs": [],
   "source": [
    "import numpy as np\n",
    "import pandas as pd\n",
    "import json\n",
    "import glob\n",
    "\n"
   ]
  },
  {
   "cell_type": "code",
   "execution_count": 2,
   "metadata": {},
   "outputs": [],
   "source": [
    "import spacy\n",
    "from spacy.matcher import PhraseMatcher"
   ]
  },
  {
   "cell_type": "code",
   "execution_count": 3,
   "metadata": {},
   "outputs": [
    {
     "name": "stderr",
     "output_type": "stream",
     "text": [
      "/Users/juliettemontanteme/opt/anaconda3/lib/python3.7/site-packages/IPython/core/interactiveshell.py:3058: DtypeWarning: Columns (13,14) have mixed types. Specify dtype option on import or set low_memory=False.\n",
      "  interactivity=interactivity, compiler=compiler, result=result)\n"
     ]
    }
   ],
   "source": [
    "root_path = '/Users/juliettemontanteme/Desktop/data_covid'\n",
    "#astuce : pour trouver facilement le chemin, ouvrir le dossier correspondant \n",
    "#et en appuyant sur \"alt\" aller sur édition et copier le chemin\n",
    "metadata_path = f'{root_path}/metadata.csv'\n",
    "meta_df = pd.read_csv(metadata_path)"
   ]
  },
  {
   "cell_type": "markdown",
   "metadata": {},
   "source": [
    "On code tout d'abord les fonctions de base : ouverture article, renvoi du texte, création de la base des articles ayant un texte. "
   ]
  },
  {
   "cell_type": "code",
   "execution_count": 4,
   "metadata": {},
   "outputs": [],
   "source": []
  },
  {
   "cell_type": "code",
   "execution_count": 5,
   "metadata": {},
   "outputs": [],
   "source": []
  },
  {
   "cell_type": "code",
   "execution_count": 6,
   "metadata": {},
   "outputs": [],
   "source": [
    "def has_full_text(x):\n",
    "    if x[\"pdf_json_files\"]==True and x[\"pmc_json_files\"]==True:\n",
    "        return False\n",
    "    return True"
   ]
  },
  {
   "cell_type": "code",
   "execution_count": 7,
   "metadata": {},
   "outputs": [],
   "source": [
    "meta_bool=meta_df[[\"pdf_json_files\",\"pmc_json_files\"]].isnull()\n",
    "meta_bool[\"has_full\"]=meta_bool.apply(lambda x:has_full_text(x),axis=1)\n",
    "meta_df_full_text=meta_df.loc[meta_bool[\"has_full\"]]\n"
   ]
  },
  {
   "cell_type": "code",
   "execution_count": 131,
   "metadata": {},
   "outputs": [
    {
     "data": {
      "text/plain": [
       "68376"
      ]
     },
     "execution_count": 131,
     "metadata": {},
     "output_type": "execute_result"
    }
   ],
   "source": [
    "n = len(meta_df_full_text)\n",
    "n"
   ]
  },
  {
   "cell_type": "markdown",
   "metadata": {},
   "source": [
    "On va maintenant passer à la recherche de mots-clés."
   ]
  },
  {
   "cell_type": "markdown",
   "metadata": {},
   "source": [
    "Avant de commencer, on effectue un préprocessing rapide des données (on peut ajouter du lemmatizing et enlever les stops words si besoin)"
   ]
  },
  {
   "cell_type": "code",
   "execution_count": 26,
   "metadata": {},
   "outputs": [],
   "source": [
    "#Chargement de la base de données anglaise\n",
    "nlp = spacy.blank('en')"
   ]
  },
  {
   "cell_type": "code",
   "execution_count": 102,
   "metadata": {},
   "outputs": [],
   "source": [
    "#Classe permettant de faire un preprocessing d'un texte\n",
    "\n",
    "class Preprocess:\n",
    "    def __init__(self, path):\n",
    "        self.path = path\n",
    "        self.article = \"\"\n",
    "        self.text = \"\"\n",
    "        self.text1 = \"\"\n",
    "        self.text2 = \"\"\n",
    "    def open_article(self):\n",
    "        file=open(str(root_path)+\"/\"+str(path),'r')\n",
    "        article=json.load(file)\n",
    "        file.close()\n",
    "        self.article = article\n",
    "    \n",
    "    def make_text(self):\n",
    "        text_list = []\n",
    "        for entry in self.article['body_text']:\n",
    "            text_list.append(entry['text'])\n",
    "            text_list.append(\"\\n\")\n",
    "        text_full=''.join(text_list)\n",
    "        self.text = text_full\n",
    "    \n",
    "    def preprocess(self): \n",
    "        self.text1 = nlp(self.text)\n",
    "        text2 = \"\"\n",
    "        for token in self.text1: \n",
    "            if token.is_stop == False:\n",
    "                text2 = text2 + \" \" + token.lemma_\n",
    "        self.text2 = nlp(text2)\n",
    "\n",
    "    def repr_1(self):\n",
    "        return(self.text1)\n",
    "    \n",
    "    def repr_2(self):\n",
    "        return(self.text2)\n",
    "\n",
    "#texts = []\n",
    "#i = 0\n",
    "#while i < n:\n",
    "    #path = meta_df_full_text.iloc[i]['pmc_json_files']\n",
    "    #if str(path)[0] != \"d\":\n",
    "        #i = i + 1\n",
    "    #else : \n",
    "        #article = open_article(path)\n",
    "        #text = make_text(article)\n",
    "        #texts.append(nlp(text))\n",
    "        #i = i + 1\n",
    "\n",
    "\n"
   ]
  },
  {
   "cell_type": "code",
   "execution_count": 103,
   "metadata": {},
   "outputs": [],
   "source": [
    "path = meta_df_full_text.iloc[1]['pmc_json_files']\n"
   ]
  },
  {
   "cell_type": "code",
   "execution_count": 104,
   "metadata": {},
   "outputs": [],
   "source": [
    "proc = Preprocess(path)\n",
    "proc.open_article()\n",
    "proc.make_text()\n",
    "proc.preprocess()\n",
    "doc = proc.repr_2()"
   ]
  },
  {
   "cell_type": "code",
   "execution_count": 105,
   "metadata": {},
   "outputs": [
    {
     "data": {
      "text/plain": [
       " discovery biological messenger molecule 10 years ago , gaseous molecule nitric oxide ( NO• ) recognized involvement diverse biological processes , including vasodilation , bronchodilation , neurotransmission , tumor surveillance , antimicrobial defense regulation inflammatory - immune processes [ 1,2,3 ] . respiratory tract , NO• generated enzymically distinct isoforms NO• synthase ( NOS-1 , NOS-2 NOS-3 ) present different extents numerous cell types , including airway alveolar epithelial cells , neuronal cells , macrophages , neutrophils , mast cells , endothelial smooth - muscle cells . contrast NOS isoforms ( NOS-1 NOS-3 ) , expressed constitutively activated mediator - induced stress - induced cell activation , NOS-2 activity primarily regulated transcriptionally commonly induced bacterial products pro - inflammatory cytokines . , inflammatory diseases respiratory tract , asthma , acute respiratory distress syndrome ( ARDS ) bronchiectasis , commonly characterized increased expression NOS-2 respiratory epithelial inflammatory - immune cells , markedly elevated local production NO• , presumably additional host defense mechanism bacterial viral infections . drawback excessive NO• production accelerated metabolism family potentially harmful reactive nitrogen species ( RNS ) , including peroxynitrite ( ONOO- ) nitrogen dioxide ( NO2 ) , especially presence phagocyte - generated oxidants . formation RNS thought prime reason NO• cases contribute etiology inflammatory lung disease [ 4,5,6 ] . Despite extensive research pro - inflammatory anti - inflammatory actions NO• , overall contribution NO• inflammatory conditions lung easily predicted depend factors , site , time degree NO• production relation local redox status , acute chronic nature immune response . addition , current understanding pro - inflammatory pro - injurious mechanisms NO• related RNS incomplete ; commentary focus primarily aspects . \n",
       " explore role NO• ( NOS ) infectious inflammatory diseases , general research approaches taken : use pharmacological inhibitors NOS isoenzymes , targeted deletion individual NOS enzymes mice . approaches suffer shortcoming animal models respiratory tract diseases generally faithfully reflect human disease . use NOS inhibitors determine contribution individual NOS isoenzymes hindered problems related specificity pharmacokinetic concerns . , unconditional gene disruption NOS isoforms , leading lifelong deficiency , markedly different outcome pharmacological inhibition certain stage disease , involvement individual NOS isoenzymes different depending disease stage severity . Despite inherent limitations , studies targeted deletion NOS isoforms led insights , indicating role NO• NOS-2 etiology inflammatory lung diseases . instance , mice deficient NOS-2 susceptible lethality intranasal inoculation influenza virus , suffer lung injury administration endotoxin , display reduced allergic eosinophilia airways lung injury model asthma , wild - type counterparts [ 7,8,9 ] . , contribution NOS-2 expected inflammatory conditions , recent studies determined NOS-1 , NOS-2 , primarily involved development airway hyper - reactivity similar asthma model [ 10 ] . linkage NOS-1 etiology asthma recently supported asthmatic humans association NOS-1 gene polymorphism disease , physiological basis association remains unclear [ 11 ] . \n",
       " Despite potential contribution NOS-2-derived NO• lung injury endotoxemia , sequestration neutrophils lung adhesion postcapillary postsinusoidal venules administration endotoxin found markedly increased NOS-2-deficient mice , NOS-2 deficiency alleviate endotoxin - induced mortality . ` harmful ' ` protective ' effects NOS-2 contend model , makes assessment potential role NOS human disease difficult . context , interesting note humans animals cystic fibrosis subnormal levels NOS-2 respiratory epithelium , related gene mutation cystic fibrosis transmembrane conductance regulator [ 12 ] . relative absence epithelial NOS-2 contributing factors excessively exuberant respiratory tract inflammatory response patients cystic fibrosis , absence detectable respiratory infections . Overall , apparently contrasting findings associated NOS deficiency , concerns animal disease models , interpretations conclusions regard human lung disease difficult . \n",
       " Pharmacological inhibitors NOS found reduce oxidative injury animal models lung injury , ischemia / reperfusion , radiation , paraquat toxicity , endotoxemia ( , example , [ 13,14,15 ] ) . , results consistent , cases NOS inhibition found worsen lung injury , indicating anti - inflammatory protective roles NO•. , despite inconsistencies , ample evidence studies suggest contributing role NO• respiratory disease conditions , continues stimulate research mechanistic aspects underlying pro - inflammatory roles modulation NO• generation potential therapeutic target . \n",
       " pro - inflammatory injurious effects NO• mediated number diverse mechanisms , commonly assumed actions largely generation reactive - products generated oxidative metabolism NO• ; collectively termed RNS . prime suspects commonly implicated adverse injurious properties NO• ONOO- , potent oxidative species formed diffusion - limited reaction superoxide ( O2•- ) , product activated phagocytes endothelial epithelial cells [ 4,5,13 ] . formation ONOO- highly feasible conditions elevated production NO• O2•-in vivo , oxidative cytotoxic potential documented [ 5,6 ] . , direct detection ONOO- inflammatory conditions virtually impossible instability high reactivity , formation ONOO - vivo demonstrated indirect methods . , investigators relied analysis characteristic oxidation products biological molecules , proteins DNA , notably free protein - associated 3-nitrotyrosine , product tyrosine oxidation formed ONOO- ( RNS ) NO• ( , example , [ 5 ] ) . , elevated levels 3-nitrotyrosine observed different inflammatory conditions respiratory tract [ 16 ] , illustrates endogenous formation ONOO- related RNS cases . , known evidence functional consequences ( protein ) tyrosine nitration , detection 3-nitrotyrosine regarded direct proof pro - inflammatory role NO•. , detection 3-nitrotyrosine cases interpreted conclusive evidence formation ONOO - vivo ( , example , [ 17 ] ) , realized RNS formed alternative mechanisms contribute endogenous tyrosine nitration . , recently clear presence inflammatory - immune cells , specifically heme peroxidases myeloperoxidase ( MPO ) eosinophil peroxidase ( EPO ) , catalyze oxidization NO• and/or metabolite NO2- reactive RNS contribute protein nitration [ 16,18,19 ] . notion supported fact 3-nitrotyrosine commonly detected tissues affected active inflammation , phagocytic cells macrophages , contain active peroxidases originating apoptotic neutrophils eosinophils . , detection 3-nitrotyrosine vivo direct proof formation ONOO- , merely indicates formation RNS multiple oxidative pathways , possibly including ONOO - probably involving activity phagocyte peroxidases [ 16,20 ] . regard , preliminary study EPO - deficient mice recently demonstrated critical importance EPO formation 3-nitrotyrosine mouse model asthma [ 21 ] . Future studies animals deficient MPO and/or EPO undoubtedly help clarify issue . \n",
       " Given considerable interest 3-nitrotyrosine collective marker endogenous formation NO•-derived RNS , crucial question remains detection 3-nitrotyrosine adequately reflects toxic injurious properties NO•. formation ONOO- ( RNS induce tyrosine nitration ) fact represent mechanism decreasing excessive levels NO• exert pro - inflammatory actions mechanisms . instance , NO• promote expression pro - inflammatory cytokines cyclo - oxygenase ( responsible formation inflammatory prostanoids ) mechanisms independent ONOO- [ 22,23 ] , removal NO• minimize responses . Furthermore , ONOO- related NO•-derived oxidants cytotoxic induce apoptosis , effects necessarily relate ability cause protein nitration ( , example , [ 16 ] ) . instance , bactericidal cytotoxic properties ONOO- minimized presence CO2 , aromatic nitration radical - induced modifications enhanced [ 5 ] . Similarly , presence NO2- incubation medium decreases cytotoxicity MPO - derived hypochlorous acid ( HOCl ) epithelial cells bacteria , despite increased tyrosine nitration cellular proteins ( van der Vliet M Syvanen , unpublished data ) . , cytotoxic properties NO• and/or metabolites instead mediated preferred reactions biological targets , necessarily correlated degree tyrosine nitration . extent nitrotyrosine immunoreactivity bronchial biopsies asthmatic patients correlated directly measured levels exhaled NO• inversely provocation concentration methacholine ( PC20 ) forced expiratory volume 1s [ 24 ] . , immunohistochemical analysis nitrotyrosine apoptosis pulmonary tissue samples lung transplant recipients identify patients imminent risk developing obliterative bronchiolitis [ 25 ] . unclear degree tyrosine nitration relates disease progression . \n",
       " studies purified enzymes suggested nitration critical tyrosine residues adversely affects enzyme activity , conclusive evidence vivo biological cellular changes direct result tyrosine nitration [ 16,20 ] . instance , tyrosine nitration suggested effect cellular pathways affecting cytoskeletal proteins tyrosine phosphorylation , affecting processes involved , example , cell proliferation differentiation [ 16,26 ] . Recent studies provided support selective tyrosine nitration certain proteins [ 27,28 ] selective cellular targets nitration RNS ( , example , [ 29,30 ] ) , specificity indicate potential physiological role protein modification . , cases tyrosine nitration linked directly changes enzyme function . Chemical studies indicated tyrosine nitration RNS accounts minor fraction oxidant involved , reactions biological targets ( thiols , selenoproteins , transition metal ions ) prominent [ 5,6 ] . , extent tyrosine nitration vivo low ( 1 - 1000 106 tyrosine residues according best estimates [ 16 ] ) , different analytical methods detect 3-nitrotyrosine biological systems given inconsistent results . important note recent rigorous studies unveiled substantial sources artifact sample preparation , frequently led overestimation tyrosine nitration vivo previous studies [ 31 ] . \n",
       " basis current knowledge , formation 3-nitrotyrosine merely marker NO•-derived oxidants , questionable pathophysiological significance . view low efficiency tyrosine nitration biological RNS , endogenous presence variable factors influence protein nitration ( antioxidants RNS scavengers ) , unlikely tyrosine nitration reliable mechanism , example , enzyme regulation . , recent discovery enzymic ` denitration ' mechanisms reverse tyrosine nitration [ 32 ] merits investigation possibility tyrosine nitration reflect signaling pathway , example analogous tyrosine phosphorylation sulfation . \n",
       " biological effects NO• mediated actions , NO• secondary RNS , overall biochemistry NO• deceptively complex . , metabolism chemistry NO• depend importantly local concentrations pH ; recently described acidification airway surface asthmatics [ 33 ] significantly affect NO• metabolism patients . known interactions ion centers iron transition metals responsible signaling properties NO• ; activation heme enzyme guanylyl cyclase consequent formation cGMP involved smooth - muscle relaxation activation certain transcription factors , expression pro - inflammatory anti - inflammatory genes ( including cytokines cyclo - oxygenase ) , production respiratory mucus [ 22,23,24,25,26,27,28,29,30,31,32,33,34 ] . addition direct signaling properties , actions NO• largely secondary RNS react multiple additional targets , cases forming nitroso nitro adducts potentially unique NO•-mediated signaling mechanisms . discussed , formation protein nitrotyrosine postulated potential RNS - specific signaling pathway . interest given reversible S - nitros(yl)ation protein cysteine residues , proposed affect number redox - sensitive signaling pathways , example activation p21ras inhibition protein tyrosine phosphatases [ 35,36 ] . Similar modifications reactive cysteine residues transcription factors nuclear factor - κB caspases contribute regulation gene expression apoptosis [ 37,38,39 ] . precise mechanisms leading protein S - nitrosylation vivo clarified , involve dinitrogen trioxide ( formed autoxidation NO• ) , iron - nitrosyl complexes , ONOO-[16 ] ; changes NO• metabolism inflammatory lung diseases undoubtedly affect NO• -dependent signaling pathways . addition , S - nitrosylation reversed enzymic ( thioredoxin glutaredoxin ) chemical ( metals oxidants ) mechanisms , evidence increasing reversible modification complementary widely accepted oxidant - dependent redox signaling pathways [ 40 ] . reported alterations S - nitrosothiol levels tracheal secretions patients asthma cystic fibrosis point altered NO• metabolism cases , provide new clues role S - nitrosylation controlling disease processes [ 41,42 ] . Unfortunately , technical limitations detect S - nitrosylation specific protein targets vivo limited understanding potential signaling pathway ; research areas expected establish clearly significance pathophysiological properties NO•. \n",
       " Despite overwhelming evidence increased formation NO• NO•-derived oxidants different lung diseases , exact contribution NO• metabolites inflammatory lung disease unclear . , NO• distinctly different roles different stages respiratory tract inflammatory diseases , pro - inflammatory pro - injurious acute severe stages protective anti - inflammatory stable conditions ; uncertain NOS suitable therapeutic target management inflammatory lung disease . Caution clearly needed interpreting observations tyrosine nitration animal models disease human tissues , automatically implicate ONOO- ( thought ) , indicates formation RNS mechanisms . Furthermore , animal models chronic lung disease usually reflect short - term acute inflammation applicable chronic airway diseases humans . instance , phagocyte degranulation , common feature observed association human airway inflammatory diseases asthma , occur mouse models asthma [ 43 ] . importance granule proteins , heme peroxidases , pathology human airway diseases adequately reflected animal models . work animal models characteristic human diseases biopsy materials human subjects required unravel precise role NO• inflammatory lung disease , establish clearly pharmacological inhibition NOS isoenzymes beneficial . brings interesting paradox , despite presumed adverse roles NO• inflammatory lung diseases septic shock ARDS , NO• inhalation suggested potential therapeutic strategy improve overall gas exchange [ 44 ] . Intriguingly , rat model endotoxemia , inhalation NO• found reduce neutrophilic inflammation protein nitration [ 45 ] , supporting crucial involvement inflammatory - immune cells protein modification . \n",
       " better assessment role NO• respiratory tract diseases humans , production RNS and/or characteristic markers need carefully monitored disease stages . Care given analytical techniques , quantitative capacity possibility artifacts . monitoring exhaled NO• , convenient non - invasive , reflect actual production fate NO• respiratory tract correlated NOS activity lung [ 46 ] . need continue research local biochemistry NO• lung , taking account presence secreted phagocyte peroxidases possible changes local pH , asthmatic airways [ 33 ] , modulate NO• activity metabolism . result better understanding relationships metabolic endproducts NO• ( NO2- , NO3- , nitroso nitro adducts ) pro - inflammatory injurious properties . "
      ]
     },
     "execution_count": 105,
     "metadata": {},
     "output_type": "execute_result"
    }
   ],
   "source": [
    "doc"
   ]
  },
  {
   "cell_type": "code",
   "execution_count": null,
   "metadata": {},
   "outputs": [],
   "source": []
  },
  {
   "cell_type": "code",
   "execution_count": 106,
   "metadata": {},
   "outputs": [],
   "source": [
    "matcher = PhraseMatcher(nlp.vocab, attr='LOWER')"
   ]
  },
  {
   "cell_type": "code",
   "execution_count": 107,
   "metadata": {},
   "outputs": [],
   "source": [
    "hypertension = ['hypertension', 'high blood pressure', 'hypertensive', 'high pressure', 'raised blood pressure', 'htn', 'hbp', 'ht', ]\n",
    "diabetes = ['diabetes', 'high blood sugar', 'insulin resistance', 'diabetic', 'diabetics', 'dm']\n",
    "gender = ['male gender', 'male', 'gender', 'sex', 'masculine', 'female']\n",
    "heart_disease = ['cardiopathy', 'heart disease', 'heart', 'chd', 'arrhythmia', 'tachycardia', 'bradycardia', 'fibrillation', 'cardiomyopathy', 'infarction']\n",
    "COPD_respiratory_system = ['copd', 'emphysema', 'bronchitis', 'asthma', 'bronchiectasis', 'respiratory', 'trachea', 'lung', 'lungs', 'pulmonary']\n",
    "smoking_status = ['smoking', 'smoke', 'smoker', 'tobacco']\n",
    "age = ['age', 'old', 'young', 'senior', 'child', 'children']\n",
    "cerebrovascular_disease = ['cerebrovascular', 'embolism', 'ischemic', 'stroke', 'aneurysm', 'tia', 'subarachnoid']\n",
    "cancer = ['cancer', 'leukemia', 'cancerology']\n",
    "kidney_disease = ['kidney', 'edema', 'anemia', 'gfr', 'dialysis']\n",
    "drinking = ['drinking', 'alcohol', 'alcoholic']\n",
    "overweight = ['overweight', 'obesity', 'obese', 'bmi']\n",
    "liver_disease = ['liver', 'fascioliasis', 'cirrhosis', 'hepatitis', 'psc']"
   ]
  },
  {
   "cell_type": "code",
   "execution_count": 108,
   "metadata": {},
   "outputs": [],
   "source": [
    "hta_tokens_list = [nlp(factor) for factor in hypertension]\n",
    "diabetes_tokens_list = [nlp(factor) for factor in diabetes]\n",
    "gender_tokens_list = [nlp(factor) for factor in gender]\n",
    "heart_tokens_list = [nlp(factor) for factor in heart_disease]\n",
    "respi_tokens_list = [nlp(factor) for factor in COPD_respiratory_system]\n",
    "smoking_tokens_list = [nlp(factor) for factor in smoking_status]\n",
    "age_tokens_list = [nlp(factor) for factor in age]\n",
    "cerebrovascular_tokens_list = [nlp(factor) for factor in cerebrovascular_disease]\n",
    "cancer_tokens_list = [nlp(factor) for factor in cancer]\n",
    "kidney_tokens_list = [nlp(factor) for factor in kidney_disease]\n",
    "drinking_tokens_list = [nlp(factor) for factor in drinking]\n",
    "overweight_tokens_list = [nlp(factor) for factor in overweight]\n",
    "liver_tokens_list = [nlp(factor) for factor in liver_disease]\n",
    "\n"
   ]
  },
  {
   "cell_type": "code",
   "execution_count": 84,
   "metadata": {},
   "outputs": [],
   "source": [
    "matcher.add(\"HTA\",hta_tokens_list)\n",
    "matcher.add(\"DIABETES\",diabetes_tokens_list)\n",
    "matcher.add(\"GENDER\",gender_tokens_list )\n",
    "matcher.add(\"HEART\",heart_tokens_list )\n",
    "matcher.add(\"RESPIRATORY\",respi_tokens_list )\n",
    "matcher.add(\"SMOKING\",smoking_tokens_list )\n",
    "matcher.add(\"AGE\",age_tokens_list )\n",
    "matcher.add(\"CEREBROVASCULAR\",cerebrovascular_tokens_list )\n",
    "matcher.add(\"CANCER\",cancer_tokens_list )\n",
    "matcher.add(\"KIDNEY\",kidney_tokens_list )\n",
    "matcher.add(\"DRINKING\",drinking_tokens_list )\n",
    "matcher.add(\"OVERWEIGHT\",overweight_tokens_list )\n",
    "matcher.add(\"LIVER\",liver_tokens_list )\n"
   ]
  },
  {
   "cell_type": "code",
   "execution_count": 109,
   "metadata": {},
   "outputs": [],
   "source": [
    "matcher.add(\"RESPIRATORY\",respi_tokens_list )"
   ]
  },
  {
   "cell_type": "code",
   "execution_count": 110,
   "metadata": {},
   "outputs": [],
   "source": [
    "matches = matcher(doc)"
   ]
  },
  {
   "cell_type": "code",
   "execution_count": 111,
   "metadata": {},
   "outputs": [],
   "source": [
    "import math"
   ]
  },
  {
   "cell_type": "code",
   "execution_count": 130,
   "metadata": {},
   "outputs": [],
   "source": [
    "class Diffusivity:\n",
    "    def __init__(self, matches, doc):\n",
    "        self.matches = matches\n",
    "        self.doc = doc\n",
    "        self.positions = []\n",
    "        self.occurence = len(self.matches)\n",
    "        \n",
    "    def position(self):\n",
    "        for match in self.matches :\n",
    "            pos = (match[1] + match[2])/2\n",
    "            self.positions.append(int(pos))\n",
    "\n",
    "        \n",
    "    def score(self):\n",
    "        mean_pos = np.mean(self.positions)\n",
    "        ecart_pos = math.sqrt(np.var(self.positions))\n",
    "        score = ecart_pos / len(self.doc)\n",
    "        return score\n",
    "        \n",
    "\n",
    "            "
   ]
  },
  {
   "cell_type": "code",
   "execution_count": 132,
   "metadata": {},
   "outputs": [
    {
     "data": {
      "text/plain": [
       "0.3420907247640987"
      ]
     },
     "execution_count": 132,
     "metadata": {},
     "output_type": "execute_result"
    }
   ],
   "source": [
    "dif = Diffusivity(matches, doc)\n",
    "dif.position()\n",
    "dif.score()"
   ]
  },
  {
   "cell_type": "code",
   "execution_count": 86,
   "metadata": {},
   "outputs": [
    {
     "name": "stdout",
     "output_type": "stream",
     "text": [
      "[respiratory, respiratory, respiratory, respiratory, asthma, asthma, respiratory, respiratory, bronchiectasis, bronchiectasis, respiratory, respiratory, lung, lung, lung, lung, respiratory, respiratory, lung, lung, lung, lung, lung, lung, asthma, asthma, asthma, asthma, asthma, asthma, lung, lung, lung, lung, respiratory, respiratory, respiratory, respiratory, respiratory, respiratory, lung, lung, lung, lung, lung, lung, respiratory, respiratory, respiratory, respiratory, asthma, asthma, pulmonary, pulmonary, lung, lung, respiratory, respiratory, lung, lung, asthma, asthma, lung, lung, lung, lung, respiratory, respiratory, lung, lung, lung, lung, asthma, asthma, asthma, asthma, lung, lung, lung, lung, respiratory, respiratory, respiratory, respiratory, lung, lung, lung, lung]\n"
     ]
    }
   ],
   "source": [
    "found_factors = [doc[match[1]:match[2]] for match in matches]\n",
    "print(found_factors)"
   ]
  },
  {
   "cell_type": "code",
   "execution_count": 133,
   "metadata": {},
   "outputs": [],
   "source": [
    "class Frequency: \n",
    "    def __init__(self, matches, doc):\n",
    "        self.matches = matches\n",
    "        self.doc = doc\n",
    "        self.occurence = len(self.matches)\n",
    "    \n",
    "    def score(self):\n",
    "        return len(self.matches)/len(self.doc)\n"
   ]
  },
  {
   "cell_type": "code",
   "execution_count": 135,
   "metadata": {},
   "outputs": [
    {
     "data": {
      "text/plain": [
       "0.02030456852791878"
      ]
     },
     "execution_count": 135,
     "metadata": {},
     "output_type": "execute_result"
    }
   ],
   "source": [
    "fr = Frequency(matches, doc)\n",
    "fr.score()"
   ]
  },
  {
   "cell_type": "code",
   "execution_count": 111,
   "metadata": {},
   "outputs": [
    {
     "data": {
      "text/plain": [
       "'document_parses/pdf_json/6ff8826ca04c185f3a88ab4b0d5a912aea4ab1a6.json'"
      ]
     },
     "execution_count": 111,
     "metadata": {},
     "output_type": "execute_result"
    }
   ],
   "source": [
    "paths =list(meta_df_full_text[\"pdf_json_files\"])\n",
    "\n"
   ]
  },
  {
   "cell_type": "code",
   "execution_count": 105,
   "metadata": {},
   "outputs": [
    {
     "data": {
      "text/plain": [
       "['document_parses/pdf_json/d1aafb70c066a2068b02786f8929fd9c900897fb.json',\n",
       " 'document_parses/pdf_json/6b0567729c2143a66d737eb0a2f63f2dce2e5a7d.json',\n",
       " 'document_parses/pdf_json/06ced00a5fc04215949aa72528f2eeaae1d58927.json',\n",
       " 'document_parses/pdf_json/348055649b6b8cf2b9a376498df9bf41f7123605.json',\n",
       " 'document_parses/pdf_json/5f48792a5fa08bed9f56016f4981ae2ca6031b32.json',\n",
       " 'document_parses/pdf_json/b2897e1277f56641193a6db73825f707eed3e4c9.json',\n",
       " 'document_parses/pdf_json/3bb07ea10432f7738413dff9816809cc90f03f99.json',\n",
       " 'document_parses/pdf_json/5806726a24dc91de3954001effbdffd7a82d54e2.json',\n",
       " 'document_parses/pdf_json/faaf1022ccfe93b032c5608097a53543ba24aedb.json',\n",
       " 'document_parses/pdf_json/5b44feca5d6ffaaeb66501fa84cc6dd44d06660a.json']"
      ]
     },
     "execution_count": 105,
     "metadata": {},
     "output_type": "execute_result"
    }
   ],
   "source": [
    "\n",
    "        "
   ]
  },
  {
   "cell_type": "code",
   "execution_count": 112,
   "metadata": {},
   "outputs": [
    {
     "ename": "KeyboardInterrupt",
     "evalue": "",
     "output_type": "error",
     "traceback": [
      "\u001b[0;31m---------------------------------------------------------------------------\u001b[0m",
      "\u001b[0;31mKeyboardInterrupt\u001b[0m                         Traceback (most recent call last)",
      "\u001b[0;32m<ipython-input-112-ea1550ccf0e2>\u001b[0m in \u001b[0;36m<module>\u001b[0;34m\u001b[0m\n\u001b[1;32m      1\u001b[0m \u001b[0;32mfor\u001b[0m \u001b[0mpath\u001b[0m \u001b[0;32min\u001b[0m \u001b[0mpaths\u001b[0m\u001b[0;34m:\u001b[0m\u001b[0;34m\u001b[0m\u001b[0;34m\u001b[0m\u001b[0m\n\u001b[0;32m----> 2\u001b[0;31m     \u001b[0ml\u001b[0m \u001b[0;34m=\u001b[0m \u001b[0mstr\u001b[0m\u001b[0;34m(\u001b[0m\u001b[0mpath\u001b[0m\u001b[0;34m)\u001b[0m\u001b[0;34m.\u001b[0m\u001b[0msplit\u001b[0m\u001b[0;34m(\u001b[0m\u001b[0;34m';'\u001b[0m\u001b[0;34m)\u001b[0m\u001b[0;34m\u001b[0m\u001b[0;34m\u001b[0m\u001b[0m\n\u001b[0m\u001b[1;32m      3\u001b[0m     \u001b[0;32mfor\u001b[0m \u001b[0mnew_path\u001b[0m \u001b[0;32min\u001b[0m \u001b[0ml\u001b[0m\u001b[0;34m:\u001b[0m\u001b[0;34m\u001b[0m\u001b[0;34m\u001b[0m\u001b[0m\n\u001b[1;32m      4\u001b[0m         \u001b[0mpaths\u001b[0m\u001b[0;34m.\u001b[0m\u001b[0mappend\u001b[0m\u001b[0;34m(\u001b[0m\u001b[0mnew_path\u001b[0m\u001b[0;34m)\u001b[0m\u001b[0;34m\u001b[0m\u001b[0;34m\u001b[0m\u001b[0m\n\u001b[1;32m      5\u001b[0m \u001b[0;34m\u001b[0m\u001b[0m\n",
      "\u001b[0;31mKeyboardInterrupt\u001b[0m: "
     ]
    }
   ],
   "source": [
    "\n",
    "for path in paths: \n",
    "    l = str(path).split(';')\n",
    "    for new_path in l:\n",
    "        paths.append(new_path)\n",
    "\n"
   ]
  },
  {
   "cell_type": "code",
   "execution_count": 96,
   "metadata": {},
   "outputs": [
    {
     "data": {
      "text/plain": [
       "'document_parses/pmc_json/PMC1636417.xml.json'"
      ]
     },
     "execution_count": 96,
     "metadata": {},
     "output_type": "execute_result"
    }
   ],
   "source": [
    "meta_df_full_text[\"pmc_json_files\"][76]\n"
   ]
  },
  {
   "cell_type": "code",
   "execution_count": null,
   "metadata": {},
   "outputs": [],
   "source": [
    "list_of_texts =[]\n",
    "for i in range(n):\n",
    "    try:\n",
    "        path = meta_df_full_text[\"pmc_json_files\"][i]\n",
    "    except KeyError:\n",
    "        print(f'La clé {i} n existe pas')\n",
    "    else : \n",
    "        try: \n",
    "            article=open_article(str(path))\n",
    "        except FileNotFoundError:\n",
    "            print(f'{i} and {path}')\n",
    "        else: \n",
    "            text = make_text(article)\n",
    "            list_of_texts.append(text)\n",
    "\n"
   ]
  },
  {
   "cell_type": "code",
   "execution_count": 86,
   "metadata": {},
   "outputs": [
    {
     "data": {
      "text/plain": [
       "'document_parses/pdf_json/52566dccb4bd8044edc87b1a0aa268320a6ea3d4.json; document_parses/pdf_json/8b39433dd865c0f71c7b2f333e1f506b73d722f1.json'"
      ]
     },
     "execution_count": 86,
     "metadata": {},
     "output_type": "execute_result"
    }
   ],
   "source": [
    "\n",
    "str(meta_df_full_text[\"pdf_json_files\"][78])\n",
    "\n",
    "\n",
    "\n",
    "\n"
   ]
  },
  {
   "cell_type": "code",
   "execution_count": 76,
   "metadata": {},
   "outputs": [
    {
     "data": {
      "text/plain": [
       "'document_parses/pdf_json/c1ad13d83e926979dbf2bbe52e4944082f28dfea.json'"
      ]
     },
     "execution_count": 76,
     "metadata": {},
     "output_type": "execute_result"
    }
   ],
   "source": [
    "meta_df_full_text[\"pdf_json_files\"][71]"
   ]
  },
  {
   "cell_type": "code",
   "execution_count": null,
   "metadata": {},
   "outputs": [],
   "source": []
  }
 ],
 "metadata": {
  "kernelspec": {
   "display_name": "Python 3",
   "language": "python",
   "name": "python3"
  },
  "language_info": {
   "codemirror_mode": {
    "name": "ipython",
    "version": 3
   },
   "file_extension": ".py",
   "mimetype": "text/x-python",
   "name": "python",
   "nbconvert_exporter": "python",
   "pygments_lexer": "ipython3",
   "version": "3.7.4"
  }
 },
 "nbformat": 4,
 "nbformat_minor": 2
}
