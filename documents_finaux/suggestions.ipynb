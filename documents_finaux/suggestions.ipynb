{
 "cells": [
  {
   "cell_type": "markdown",
   "metadata": {},
   "source": [
    "# Suggestions"
   ]
  },
  {
   "cell_type": "markdown",
   "metadata": {},
   "source": [
    "Le but de ce notebook est qu'à partir d'un article on puisse trouver un groupe d'article proches.\n",
    "\n",
    "Idées :\n",
    "- tout prérassembler et classer dans des groupes pour limiter le temps de calculs. On pourrait imaginer faire des groupes de 10 articles proches et les afficher en suggestion -> existence de méthodes de clustering qui permettent de faire assez simplement je pense\n",
    "- pour chaque article calculer ses plus proches voisins. On peut le faire à l'avance et stocker le numéro de ces articles. Comment définir la métrique ?\n"
   ]
  },
  {
   "cell_type": "code",
   "execution_count": 1,
   "metadata": {},
   "outputs": [],
   "source": [
    "import numpy as np\n",
    "import pandas as pd\n",
    "import glob\n",
    "import json\n",
    "import matplotlib.pyplot as plt"
   ]
  },
  {
   "cell_type": "code",
   "execution_count": 2,
   "metadata": {},
   "outputs": [],
   "source": [
    "from sklearn.feature_extraction.text import TfidfVectorizer\n",
    "from sklearn.cluster import KMeans"
   ]
  },
  {
   "cell_type": "code",
   "execution_count": 3,
   "metadata": {},
   "outputs": [],
   "source": [
    "meta_df=pd.read_csv(\"metadata_processed.csv\")\n"
   ]
  },
  {
   "cell_type": "code",
   "execution_count": 4,
   "metadata": {},
   "outputs": [],
   "source": [
    "def drop_nan(x):\n",
    "    if str(x)==\"nan\":\n",
    "        return \"\"\n",
    "    return x"
   ]
  },
  {
   "cell_type": "code",
   "execution_count": 5,
   "metadata": {},
   "outputs": [],
   "source": [
    "meta_df[\"abstract_process\"]=meta_df[\"abstract_process\"].apply(lambda x:drop_nan(x))\n",
    "\n",
    "X=list(meta_df[\"abstract_process\"])\n"
   ]
  },
  {
   "cell_type": "code",
   "execution_count": 6,
   "metadata": {},
   "outputs": [],
   "source": [
    "vectorizer=TfidfVectorizer(lowercase=True,stop_words={'english'},min_df=0.01,analyzer='word')\n",
    "vectorizer.fit(X)\n",
    "title_vect=vectorizer.transform(X)"
   ]
  },
  {
   "cell_type": "code",
   "execution_count": 7,
   "metadata": {},
   "outputs": [
    {
     "data": {
      "text/plain": [
       "(157712, 1273)"
      ]
     },
     "execution_count": 7,
     "metadata": {},
     "output_type": "execute_result"
    }
   ],
   "source": [
    "title_vect.shape\n"
   ]
  },
  {
   "cell_type": "code",
   "execution_count": 8,
   "metadata": {},
   "outputs": [
    {
     "name": "stdout",
     "output_type": "stream",
     "text": [
      "  (0, 1240)\t0.07639702492835487\n",
      "  (0, 1219)\t0.07744141286600782\n",
      "  (0, 1216)\t0.07702393437424933\n",
      "  (0, 1208)\t0.0737781331725699\n",
      "  (0, 1192)\t0.06918093827528092\n",
      "  (0, 1153)\t0.0570009151735699\n",
      "  (0, 1100)\t0.07395455998108887\n",
      "  (0, 1080)\t0.05957312705125294\n",
      "  (0, 1074)\t0.0742578606557069\n",
      "  (0, 1021)\t0.07198930518801817\n",
      "  (0, 1020)\t0.05061153385918455\n",
      "  (0, 1016)\t0.07054052529396325\n",
      "  (0, 1013)\t0.06593585223171049\n",
      "  (0, 1009)\t0.08661550573852737\n",
      "  (0, 998)\t0.06234298412373216\n",
      "  (0, 966)\t0.07705736125981294\n",
      "  (0, 965)\t0.08362749774292597\n",
      "  (0, 963)\t0.07863671146660153\n",
      "  (0, 946)\t0.04928295411413267\n",
      "  (0, 932)\t0.0699099996698374\n",
      "  (0, 881)\t0.05075784231428755\n",
      "  (0, 866)\t0.05704736615716727\n",
      "  (0, 857)\t0.38158562050952255\n",
      "  (0, 830)\t0.389118767163832\n",
      "  (0, 783)\t0.06722310672042628\n",
      "  :\t:\n",
      "  (0, 335)\t0.08212486430919541\n",
      "  (0, 319)\t0.06923425762552504\n",
      "  (0, 312)\t0.04330227022894022\n",
      "  (0, 304)\t0.07098333504523789\n",
      "  (0, 289)\t0.0790315073008854\n",
      "  (0, 255)\t0.0391835785851723\n",
      "  (0, 247)\t0.05935856209692248\n",
      "  (0, 238)\t0.32458394918343614\n",
      "  (0, 234)\t0.2806009833418495\n",
      "  (0, 222)\t0.04240407976312891\n",
      "  (0, 211)\t0.12995489406664962\n",
      "  (0, 150)\t0.04747560991143099\n",
      "  (0, 100)\t0.05465509743960134\n",
      "  (0, 98)\t0.06796343416720074\n",
      "  (0, 90)\t0.07351947456232034\n",
      "  (0, 57)\t0.08119712493115055\n",
      "  (0, 54)\t0.14677477669670913\n",
      "  (0, 45)\t0.21868694159169388\n",
      "  (0, 40)\t0.1527833701202486\n",
      "  (0, 38)\t0.08059451331936325\n",
      "  (0, 35)\t0.06448310107786713\n",
      "  (0, 30)\t0.06876744158074073\n",
      "  (0, 29)\t0.06760526692403412\n",
      "  (0, 8)\t0.13265110529693505\n",
      "  (0, 2)\t0.07955460669618376\n"
     ]
    }
   ],
   "source": [
    "print(title_vect[0,:])"
   ]
  },
  {
   "cell_type": "code",
   "execution_count": 9,
   "metadata": {},
   "outputs": [],
   "source": [
    "from sklearn.metrics.pairwise import linear_kernel"
   ]
  },
  {
   "cell_type": "code",
   "execution_count": 10,
   "metadata": {},
   "outputs": [
    {
     "name": "stdout",
     "output_type": "stream",
     "text": [
      "0\n",
      "10000\n",
      "20000\n",
      "30000\n",
      "40000\n",
      "50000\n",
      "60000\n",
      "70000\n",
      "80000\n",
      "90000\n",
      "100000\n",
      "110000\n",
      "120000\n",
      "130000\n",
      "140000\n",
      "150000\n"
     ]
    }
   ],
   "source": [
    "n,_=title_vect.shape\n",
    "indices=np.zeros((n,5))\n",
    "for i in range(n):\n",
    "    sim=linear_kernel(title_vect[i:i+1],title_vect).flatten()\n",
    "    indices[i]=sim.argsort()[-7:-2]\n",
    "    if i%10000==0:\n",
    "        print(i)"
   ]
  },
  {
   "cell_type": "code",
   "execution_count": 19,
   "metadata": {},
   "outputs": [],
   "source": [
    "df_indices=pd.DataFrame(data=indices,columns=[f\"suggestion_{i}\" for i in range(5)],dtype='int32')"
   ]
  },
  {
   "cell_type": "code",
   "execution_count": 20,
   "metadata": {},
   "outputs": [],
   "source": [
    "meta_df2=pd.concat([meta_df,df_indices],axis=1)"
   ]
  },
  {
   "cell_type": "code",
   "execution_count": 21,
   "metadata": {},
   "outputs": [
    {
     "data": {
      "text/html": [
       "<div>\n",
       "<style scoped>\n",
       "    .dataframe tbody tr th:only-of-type {\n",
       "        vertical-align: middle;\n",
       "    }\n",
       "\n",
       "    .dataframe tbody tr th {\n",
       "        vertical-align: top;\n",
       "    }\n",
       "\n",
       "    .dataframe thead th {\n",
       "        text-align: right;\n",
       "    }\n",
       "</style>\n",
       "<table border=\"1\" class=\"dataframe\">\n",
       "  <thead>\n",
       "    <tr style=\"text-align: right;\">\n",
       "      <th></th>\n",
       "      <th>Unnamed: 0</th>\n",
       "      <th>title</th>\n",
       "      <th>abstract</th>\n",
       "      <th>authors</th>\n",
       "      <th>title_process</th>\n",
       "      <th>abstract_process</th>\n",
       "      <th>date</th>\n",
       "      <th>path</th>\n",
       "      <th>note_date</th>\n",
       "      <th>nb_ref_linked</th>\n",
       "      <th>note_ref</th>\n",
       "      <th>suggestion_0</th>\n",
       "      <th>suggestion_1</th>\n",
       "      <th>suggestion_2</th>\n",
       "      <th>suggestion_3</th>\n",
       "      <th>suggestion_4</th>\n",
       "    </tr>\n",
       "  </thead>\n",
       "  <tbody>\n",
       "    <tr>\n",
       "      <th>0</th>\n",
       "      <td>0</td>\n",
       "      <td>Clinical features of culture-proven Mycoplasma...</td>\n",
       "      <td>OBJECTIVE: This retrospective chart review des...</td>\n",
       "      <td>Madani, Tariq A; Al-Ghamdi, Aisha A</td>\n",
       "      <td>clinical feature of cultureproven mycoplasma p...</td>\n",
       "      <td>objective retrospective chart review describes...</td>\n",
       "      <td>2001.0</td>\n",
       "      <td>document_parses/pdf_json/d1aafb70c066a2068b027...</td>\n",
       "      <td>0.050000</td>\n",
       "      <td>0</td>\n",
       "      <td>0.000000</td>\n",
       "      <td>148401</td>\n",
       "      <td>143499</td>\n",
       "      <td>102731</td>\n",
       "      <td>37888</td>\n",
       "      <td>147696</td>\n",
       "    </tr>\n",
       "    <tr>\n",
       "      <th>1</th>\n",
       "      <td>1</td>\n",
       "      <td>Nitric oxide: a pro-inflammatory mediator in l...</td>\n",
       "      <td>Inflammatory diseases of the respiratory tract...</td>\n",
       "      <td>Vliet, Albert van der; Eiserich, Jason P; Cros...</td>\n",
       "      <td>nitric oxide a proinflammatory mediator in lun...</td>\n",
       "      <td>inflammatory disease respiratory tract commonl...</td>\n",
       "      <td>2000.0</td>\n",
       "      <td>document_parses/pdf_json/6b0567729c2143a66d737...</td>\n",
       "      <td>0.047619</td>\n",
       "      <td>1</td>\n",
       "      <td>0.000530</td>\n",
       "      <td>27159</td>\n",
       "      <td>15861</td>\n",
       "      <td>14983</td>\n",
       "      <td>25575</td>\n",
       "      <td>48591</td>\n",
       "    </tr>\n",
       "    <tr>\n",
       "      <th>2</th>\n",
       "      <td>2</td>\n",
       "      <td>Surfactant protein-D and pulmonary host defense</td>\n",
       "      <td>Surfactant protein-D (SP-D) participates in th...</td>\n",
       "      <td>Crouch, Erika C</td>\n",
       "      <td>surfactant proteind and pulmonary host defense</td>\n",
       "      <td>surfactant proteind spd participates innate re...</td>\n",
       "      <td>2000.0</td>\n",
       "      <td>document_parses/pdf_json/06ced00a5fc04215949aa...</td>\n",
       "      <td>0.047619</td>\n",
       "      <td>6</td>\n",
       "      <td>0.003178</td>\n",
       "      <td>8712</td>\n",
       "      <td>4088</td>\n",
       "      <td>72868</td>\n",
       "      <td>39313</td>\n",
       "      <td>143632</td>\n",
       "    </tr>\n",
       "    <tr>\n",
       "      <th>3</th>\n",
       "      <td>3</td>\n",
       "      <td>Role of endothelin-1 in lung disease</td>\n",
       "      <td>Endothelin-1 (ET-1) is a 21 amino acid peptide...</td>\n",
       "      <td>Fagan, Karen A; McMurtry, Ivan F; Rodman, David M</td>\n",
       "      <td>role of endothelin1 in lung disease</td>\n",
       "      <td>endothelin1 et1 21 amino acid peptide diverse ...</td>\n",
       "      <td>2001.0</td>\n",
       "      <td>document_parses/pdf_json/348055649b6b8cf2b9a37...</td>\n",
       "      <td>0.050000</td>\n",
       "      <td>2</td>\n",
       "      <td>0.001059</td>\n",
       "      <td>15360</td>\n",
       "      <td>130980</td>\n",
       "      <td>48591</td>\n",
       "      <td>15861</td>\n",
       "      <td>35032</td>\n",
       "    </tr>\n",
       "    <tr>\n",
       "      <th>4</th>\n",
       "      <td>4</td>\n",
       "      <td>Gene expression in epithelial cells in respons...</td>\n",
       "      <td>Respiratory syncytial virus (RSV) and pneumoni...</td>\n",
       "      <td>Domachowske, Joseph B; Bonville, Cynthia A; Ro...</td>\n",
       "      <td>gene expression in epithelial cell in response...</td>\n",
       "      <td>respiratory syncytial virus rsv pneumonia viru...</td>\n",
       "      <td>2001.0</td>\n",
       "      <td>document_parses/pdf_json/5f48792a5fa08bed9f560...</td>\n",
       "      <td>0.050000</td>\n",
       "      <td>2</td>\n",
       "      <td>0.001059</td>\n",
       "      <td>157555</td>\n",
       "      <td>127074</td>\n",
       "      <td>21507</td>\n",
       "      <td>26009</td>\n",
       "      <td>135944</td>\n",
       "    </tr>\n",
       "  </tbody>\n",
       "</table>\n",
       "</div>"
      ],
      "text/plain": [
       "   Unnamed: 0                                              title  \\\n",
       "0           0  Clinical features of culture-proven Mycoplasma...   \n",
       "1           1  Nitric oxide: a pro-inflammatory mediator in l...   \n",
       "2           2    Surfactant protein-D and pulmonary host defense   \n",
       "3           3               Role of endothelin-1 in lung disease   \n",
       "4           4  Gene expression in epithelial cells in respons...   \n",
       "\n",
       "                                            abstract  \\\n",
       "0  OBJECTIVE: This retrospective chart review des...   \n",
       "1  Inflammatory diseases of the respiratory tract...   \n",
       "2  Surfactant protein-D (SP-D) participates in th...   \n",
       "3  Endothelin-1 (ET-1) is a 21 amino acid peptide...   \n",
       "4  Respiratory syncytial virus (RSV) and pneumoni...   \n",
       "\n",
       "                                             authors  \\\n",
       "0                Madani, Tariq A; Al-Ghamdi, Aisha A   \n",
       "1  Vliet, Albert van der; Eiserich, Jason P; Cros...   \n",
       "2                                    Crouch, Erika C   \n",
       "3  Fagan, Karen A; McMurtry, Ivan F; Rodman, David M   \n",
       "4  Domachowske, Joseph B; Bonville, Cynthia A; Ro...   \n",
       "\n",
       "                                       title_process  \\\n",
       "0  clinical feature of cultureproven mycoplasma p...   \n",
       "1  nitric oxide a proinflammatory mediator in lun...   \n",
       "2    surfactant proteind and pulmonary host defense    \n",
       "3               role of endothelin1 in lung disease    \n",
       "4  gene expression in epithelial cell in response...   \n",
       "\n",
       "                                    abstract_process    date  \\\n",
       "0  objective retrospective chart review describes...  2001.0   \n",
       "1  inflammatory disease respiratory tract commonl...  2000.0   \n",
       "2  surfactant proteind spd participates innate re...  2000.0   \n",
       "3  endothelin1 et1 21 amino acid peptide diverse ...  2001.0   \n",
       "4  respiratory syncytial virus rsv pneumonia viru...  2001.0   \n",
       "\n",
       "                                                path  note_date  \\\n",
       "0  document_parses/pdf_json/d1aafb70c066a2068b027...   0.050000   \n",
       "1  document_parses/pdf_json/6b0567729c2143a66d737...   0.047619   \n",
       "2  document_parses/pdf_json/06ced00a5fc04215949aa...   0.047619   \n",
       "3  document_parses/pdf_json/348055649b6b8cf2b9a37...   0.050000   \n",
       "4  document_parses/pdf_json/5f48792a5fa08bed9f560...   0.050000   \n",
       "\n",
       "   nb_ref_linked  note_ref  suggestion_0  suggestion_1  suggestion_2  \\\n",
       "0              0  0.000000        148401        143499        102731   \n",
       "1              1  0.000530         27159         15861         14983   \n",
       "2              6  0.003178          8712          4088         72868   \n",
       "3              2  0.001059         15360        130980         48591   \n",
       "4              2  0.001059        157555        127074         21507   \n",
       "\n",
       "   suggestion_3  suggestion_4  \n",
       "0         37888        147696  \n",
       "1         25575         48591  \n",
       "2         39313        143632  \n",
       "3         15861         35032  \n",
       "4         26009        135944  "
      ]
     },
     "execution_count": 21,
     "metadata": {},
     "output_type": "execute_result"
    }
   ],
   "source": [
    "meta_df2.head()"
   ]
  },
  {
   "cell_type": "code",
   "execution_count": 22,
   "metadata": {},
   "outputs": [],
   "source": [
    "meta_df2.to_csv(\"metadata_processed_suggestions.csv\")"
   ]
  },
  {
   "cell_type": "code",
   "execution_count": 23,
   "metadata": {},
   "outputs": [
    {
     "data": {
      "text/plain": [
       "Index(['Unnamed: 0', 'title', 'abstract', 'authors', 'title_process',\n",
       "       'abstract_process', 'date', 'path', 'note_date', 'nb_ref_linked',\n",
       "       'note_ref', 'suggestion_0', 'suggestion_1', 'suggestion_2',\n",
       "       'suggestion_3', 'suggestion_4'],\n",
       "      dtype='object')"
      ]
     },
     "execution_count": 23,
     "metadata": {},
     "output_type": "execute_result"
    }
   ],
   "source": [
    "meta_df2.columns"
   ]
  },
  {
   "cell_type": "code",
   "execution_count": 27,
   "metadata": {},
   "outputs": [],
   "source": [
    "article=meta_df2.loc[0]\n"
   ]
  },
  {
   "cell_type": "code",
   "execution_count": 32,
   "metadata": {},
   "outputs": [],
   "source": [
    "suggestions=article[[f\"suggestion_{i}\" for i in range(5)]].tolist()"
   ]
  },
  {
   "cell_type": "code",
   "execution_count": 33,
   "metadata": {},
   "outputs": [
    {
     "name": "stdout",
     "output_type": "stream",
     "text": [
      "[148401, 143499, 102731, 37888, 147696]\n"
     ]
    }
   ],
   "source": [
    "print(suggestions)"
   ]
  },
  {
   "cell_type": "code",
   "execution_count": null,
   "metadata": {},
   "outputs": [],
   "source": []
  }
 ],
 "metadata": {
  "kernelspec": {
   "display_name": "Python 3",
   "language": "python",
   "name": "python3"
  },
  "language_info": {
   "codemirror_mode": {
    "name": "ipython",
    "version": 3
   },
   "file_extension": ".py",
   "mimetype": "text/x-python",
   "name": "python",
   "nbconvert_exporter": "python",
   "pygments_lexer": "ipython3",
   "version": "3.7.3"
  }
 },
 "nbformat": 4,
 "nbformat_minor": 2
}
